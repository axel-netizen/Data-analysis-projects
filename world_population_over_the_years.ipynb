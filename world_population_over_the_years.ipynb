{
 "cells": [
  {
   "cell_type": "code",
   "execution_count": 1,
   "id": "d889d9dc-9140-47d7-9509-0cb7932d0dd8",
   "metadata": {},
   "outputs": [
    {
     "name": "stderr",
     "output_type": "stream",
     "text": [
      "/var/folders/j0/_lzs0m5d35d21tm0zdtkqgx40000gn/T/ipykernel_84762/1841465291.py:8: DeprecationWarning: \n",
      "Pyarrow will become a required dependency of pandas in the next major release of pandas (pandas 3.0),\n",
      "(to allow more performant data types, such as the Arrow string type, and better interoperability with other libraries)\n",
      "but was not found to be installed on your system.\n",
      "If this would cause problems for you,\n",
      "please provide us feedback at https://github.com/pandas-dev/pandas/issues/54466\n",
      "        \n",
      "  import pandas as pd\n"
     ]
    }
   ],
   "source": [
    "'''\n",
    "Importing libraries\n",
    "\n",
    "    pandas for data manipulation\n",
    "    matplotlib for data visualization\n",
    "    \n",
    "'''\n",
    "import pandas as pd\n",
    "import matplotlib.pyplot as plt"
   ]
  },
  {
   "cell_type": "markdown",
   "id": "e89d77b9-2843-49fc-b461-57a442cf77c5",
   "metadata": {},
   "source": [
    "Next, it is necessary to implement the dataset of the world population. This dataset will be stored in the variable called wp"
   ]
  },
  {
   "cell_type": "code",
   "execution_count": 2,
   "id": "7a7de1fb-c7c7-4639-9ba6-a4bd62edbdcd",
   "metadata": {},
   "outputs": [],
   "source": [
    "wp = pd.read_csv('world_population_data.csv')\n"
   ]
  },
  {
   "cell_type": "markdown",
   "id": "633e0544-c094-4141-aa9e-71b582c12e45",
   "metadata": {},
   "source": [
    "We can see that the dataset contains 234 rows and 17 columns. The main features of the data set are obtained by using the method 'describe()'  "
   ]
  },
  {
   "cell_type": "code",
   "execution_count": 3,
   "id": "a7c3b587-4ecd-45b3-8273-ed2519e83fe0",
   "metadata": {},
   "outputs": [
    {
     "data": {
      "text/html": [
       "<div>\n",
       "<style scoped>\n",
       "    .dataframe tbody tr th:only-of-type {\n",
       "        vertical-align: middle;\n",
       "    }\n",
       "\n",
       "    .dataframe tbody tr th {\n",
       "        vertical-align: top;\n",
       "    }\n",
       "\n",
       "    .dataframe thead th {\n",
       "        text-align: right;\n",
       "    }\n",
       "</style>\n",
       "<table border=\"1\" class=\"dataframe\">\n",
       "  <thead>\n",
       "    <tr style=\"text-align: right;\">\n",
       "      <th></th>\n",
       "      <th>rank</th>\n",
       "      <th>2023 population</th>\n",
       "      <th>2022 population</th>\n",
       "      <th>2020 population</th>\n",
       "      <th>2015 population</th>\n",
       "      <th>2010 population</th>\n",
       "      <th>2000 population</th>\n",
       "      <th>1990 population</th>\n",
       "      <th>1980 population</th>\n",
       "      <th>1970 population</th>\n",
       "      <th>area (km²)</th>\n",
       "      <th>density (km²)</th>\n",
       "    </tr>\n",
       "  </thead>\n",
       "  <tbody>\n",
       "    <tr>\n",
       "      <th>count</th>\n",
       "      <td>234.000000</td>\n",
       "      <td>2.340000e+02</td>\n",
       "      <td>2.340000e+02</td>\n",
       "      <td>2.340000e+02</td>\n",
       "      <td>2.340000e+02</td>\n",
       "      <td>2.340000e+02</td>\n",
       "      <td>2.340000e+02</td>\n",
       "      <td>2.340000e+02</td>\n",
       "      <td>2.340000e+02</td>\n",
       "      <td>2.340000e+02</td>\n",
       "      <td>2.340000e+02</td>\n",
       "      <td>234.000000</td>\n",
       "    </tr>\n",
       "    <tr>\n",
       "      <th>mean</th>\n",
       "      <td>117.500000</td>\n",
       "      <td>3.437442e+07</td>\n",
       "      <td>3.407441e+07</td>\n",
       "      <td>3.350107e+07</td>\n",
       "      <td>3.172996e+07</td>\n",
       "      <td>2.984524e+07</td>\n",
       "      <td>2.626947e+07</td>\n",
       "      <td>2.271022e+07</td>\n",
       "      <td>1.898462e+07</td>\n",
       "      <td>1.578691e+07</td>\n",
       "      <td>5.814500e+05</td>\n",
       "      <td>451.282051</td>\n",
       "    </tr>\n",
       "    <tr>\n",
       "      <th>std</th>\n",
       "      <td>67.694165</td>\n",
       "      <td>1.373864e+08</td>\n",
       "      <td>1.367664e+08</td>\n",
       "      <td>1.355899e+08</td>\n",
       "      <td>1.304050e+08</td>\n",
       "      <td>1.242185e+08</td>\n",
       "      <td>1.116982e+08</td>\n",
       "      <td>9.783217e+07</td>\n",
       "      <td>8.178519e+07</td>\n",
       "      <td>6.779509e+07</td>\n",
       "      <td>1.761841e+06</td>\n",
       "      <td>1979.398922</td>\n",
       "    </tr>\n",
       "    <tr>\n",
       "      <th>min</th>\n",
       "      <td>1.000000</td>\n",
       "      <td>5.180000e+02</td>\n",
       "      <td>5.100000e+02</td>\n",
       "      <td>5.200000e+02</td>\n",
       "      <td>5.640000e+02</td>\n",
       "      <td>5.960000e+02</td>\n",
       "      <td>6.510000e+02</td>\n",
       "      <td>7.000000e+02</td>\n",
       "      <td>7.330000e+02</td>\n",
       "      <td>7.520000e+02</td>\n",
       "      <td>4.400000e-01</td>\n",
       "      <td>0.000000</td>\n",
       "    </tr>\n",
       "    <tr>\n",
       "      <th>25%</th>\n",
       "      <td>59.250000</td>\n",
       "      <td>4.225982e+05</td>\n",
       "      <td>4.197385e+05</td>\n",
       "      <td>4.152845e+05</td>\n",
       "      <td>4.046760e+05</td>\n",
       "      <td>3.931490e+05</td>\n",
       "      <td>3.272420e+05</td>\n",
       "      <td>2.641158e+05</td>\n",
       "      <td>2.296142e+05</td>\n",
       "      <td>1.559970e+05</td>\n",
       "      <td>2.650000e+03</td>\n",
       "      <td>39.500000</td>\n",
       "    </tr>\n",
       "    <tr>\n",
       "      <th>50%</th>\n",
       "      <td>117.500000</td>\n",
       "      <td>5.643895e+06</td>\n",
       "      <td>5.559944e+06</td>\n",
       "      <td>5.493074e+06</td>\n",
       "      <td>5.307400e+06</td>\n",
       "      <td>4.942770e+06</td>\n",
       "      <td>4.292907e+06</td>\n",
       "      <td>3.825410e+06</td>\n",
       "      <td>3.141146e+06</td>\n",
       "      <td>2.604830e+06</td>\n",
       "      <td>8.119950e+04</td>\n",
       "      <td>97.500000</td>\n",
       "    </tr>\n",
       "    <tr>\n",
       "      <th>75%</th>\n",
       "      <td>175.750000</td>\n",
       "      <td>2.324537e+07</td>\n",
       "      <td>2.247650e+07</td>\n",
       "      <td>2.144798e+07</td>\n",
       "      <td>1.973085e+07</td>\n",
       "      <td>1.915957e+07</td>\n",
       "      <td>1.576230e+07</td>\n",
       "      <td>1.186923e+07</td>\n",
       "      <td>9.826054e+06</td>\n",
       "      <td>8.817329e+06</td>\n",
       "      <td>4.304258e+05</td>\n",
       "      <td>242.750000</td>\n",
       "    </tr>\n",
       "    <tr>\n",
       "      <th>max</th>\n",
       "      <td>234.000000</td>\n",
       "      <td>1.428628e+09</td>\n",
       "      <td>1.425887e+09</td>\n",
       "      <td>1.424930e+09</td>\n",
       "      <td>1.393715e+09</td>\n",
       "      <td>1.348191e+09</td>\n",
       "      <td>1.264099e+09</td>\n",
       "      <td>1.153704e+09</td>\n",
       "      <td>9.823725e+08</td>\n",
       "      <td>8.225344e+08</td>\n",
       "      <td>1.709824e+07</td>\n",
       "      <td>21403.000000</td>\n",
       "    </tr>\n",
       "  </tbody>\n",
       "</table>\n",
       "</div>"
      ],
      "text/plain": [
       "             rank  2023 population  2022 population  2020 population  \\\n",
       "count  234.000000     2.340000e+02     2.340000e+02     2.340000e+02   \n",
       "mean   117.500000     3.437442e+07     3.407441e+07     3.350107e+07   \n",
       "std     67.694165     1.373864e+08     1.367664e+08     1.355899e+08   \n",
       "min      1.000000     5.180000e+02     5.100000e+02     5.200000e+02   \n",
       "25%     59.250000     4.225982e+05     4.197385e+05     4.152845e+05   \n",
       "50%    117.500000     5.643895e+06     5.559944e+06     5.493074e+06   \n",
       "75%    175.750000     2.324537e+07     2.247650e+07     2.144798e+07   \n",
       "max    234.000000     1.428628e+09     1.425887e+09     1.424930e+09   \n",
       "\n",
       "       2015 population  2010 population  2000 population  1990 population  \\\n",
       "count     2.340000e+02     2.340000e+02     2.340000e+02     2.340000e+02   \n",
       "mean      3.172996e+07     2.984524e+07     2.626947e+07     2.271022e+07   \n",
       "std       1.304050e+08     1.242185e+08     1.116982e+08     9.783217e+07   \n",
       "min       5.640000e+02     5.960000e+02     6.510000e+02     7.000000e+02   \n",
       "25%       4.046760e+05     3.931490e+05     3.272420e+05     2.641158e+05   \n",
       "50%       5.307400e+06     4.942770e+06     4.292907e+06     3.825410e+06   \n",
       "75%       1.973085e+07     1.915957e+07     1.576230e+07     1.186923e+07   \n",
       "max       1.393715e+09     1.348191e+09     1.264099e+09     1.153704e+09   \n",
       "\n",
       "       1980 population  1970 population    area (km²)  density (km²)  \n",
       "count     2.340000e+02     2.340000e+02  2.340000e+02     234.000000  \n",
       "mean      1.898462e+07     1.578691e+07  5.814500e+05     451.282051  \n",
       "std       8.178519e+07     6.779509e+07  1.761841e+06    1979.398922  \n",
       "min       7.330000e+02     7.520000e+02  4.400000e-01       0.000000  \n",
       "25%       2.296142e+05     1.559970e+05  2.650000e+03      39.500000  \n",
       "50%       3.141146e+06     2.604830e+06  8.119950e+04      97.500000  \n",
       "75%       9.826054e+06     8.817329e+06  4.304258e+05     242.750000  \n",
       "max       9.823725e+08     8.225344e+08  1.709824e+07   21403.000000  "
      ]
     },
     "execution_count": 3,
     "metadata": {},
     "output_type": "execute_result"
    }
   ],
   "source": [
    "wp.describe()"
   ]
  },
  {
   "cell_type": "markdown",
   "id": "f2d1b083-cf61-4ec3-9957-027e951304e4",
   "metadata": {},
   "source": [
    "The previous result shows that there are 11 columns with data type int64, 5 object columns and 1 column with float data. Also "
   ]
  },
  {
   "cell_type": "code",
   "execution_count": 4,
   "id": "ae27a662-3aa5-4ee0-b526-e6782ed1a898",
   "metadata": {},
   "outputs": [
    {
     "name": "stdout",
     "output_type": "stream",
     "text": [
      "<class 'pandas.core.frame.DataFrame'>\n",
      "RangeIndex: 234 entries, 0 to 233\n",
      "Data columns (total 17 columns):\n",
      " #   Column            Non-Null Count  Dtype  \n",
      "---  ------            --------------  -----  \n",
      " 0   rank              234 non-null    int64  \n",
      " 1   cca3              234 non-null    object \n",
      " 2   country           234 non-null    object \n",
      " 3   continent         234 non-null    object \n",
      " 4   2023 population   234 non-null    int64  \n",
      " 5   2022 population   234 non-null    int64  \n",
      " 6   2020 population   234 non-null    int64  \n",
      " 7   2015 population   234 non-null    int64  \n",
      " 8   2010 population   234 non-null    int64  \n",
      " 9   2000 population   234 non-null    int64  \n",
      " 10  1990 population   234 non-null    int64  \n",
      " 11  1980 population   234 non-null    int64  \n",
      " 12  1970 population   234 non-null    int64  \n",
      " 13  area (km²)        234 non-null    float64\n",
      " 14  density (km²)     234 non-null    int64  \n",
      " 15  growth rate       234 non-null    object \n",
      " 16  world percentage  234 non-null    object \n",
      "dtypes: float64(1), int64(11), object(5)\n",
      "memory usage: 31.2+ KB\n"
     ]
    }
   ],
   "source": [
    "wp.info()"
   ]
  },
  {
   "cell_type": "code",
   "execution_count": 5,
   "id": "5d90af1a-fe09-4d92-ab9b-4bae770ede89",
   "metadata": {},
   "outputs": [],
   "source": [
    "wp2 = wp.copy()"
   ]
  },
  {
   "cell_type": "code",
   "execution_count": 6,
   "id": "768de3da-58fb-498e-92df-db2dcbe9ac8c",
   "metadata": {},
   "outputs": [],
   "source": [
    "wp2 = wp2.set_index(wp['country'])"
   ]
  },
  {
   "cell_type": "code",
   "execution_count": 13,
   "id": "85ea8820-f61f-477f-b01d-a80fe74a9716",
   "metadata": {},
   "outputs": [
    {
     "data": {
      "text/plain": [
       "<Axes: title={'center': 'Top 15 countries with the largest population in 1970'}, ylabel='country'>"
      ]
     },
     "execution_count": 13,
     "metadata": {},
     "output_type": "execute_result"
    },
    {
     "data": {
      "image/png": "[encoded data removed]",
      "text/plain": [
       "<Figure size 640x480 with 1 Axes>"
      ]
     },
     "metadata": {},
     "output_type": "display_data"
    }
   ],
   "source": [
    "wp2['1970 population'].head(15).sort_values(ascending=True).plot(kind='barh',title='Top 15 countries with the largest population in 1970')"
   ]
  },
  {
   "cell_type": "code",
   "execution_count": 14,
   "id": "c9ce53bb-b40b-429a-b989-7b165a5afc46",
   "metadata": {},
   "outputs": [
    {
     "data": {
      "text/plain": [
       "<Axes: title={'center': 'Top 15 countries with the largest population in 2023'}, ylabel='country'>"
      ]
     },
     "execution_count": 14,
     "metadata": {},
     "output_type": "execute_result"
    },
    {
     "data": {
      "image/png": "[encoded data removed]",
      "text/plain": [
       "<Figure size 640x480 with 1 Axes>"
      ]
     },
     "metadata": {},
     "output_type": "display_data"
    }
   ],
   "source": [
    "wp2['2023 population'].head(15).sort_values(ascending=True).plot(kind='barh',title='Top 15 countries with the largest population in 2023')"
   ]
  },
  {
   "cell_type": "markdown",
   "id": "2c1411da-fac5-484c-befa-6af952e093d7",
   "metadata": {},
   "source": [
    "The plots tell us that China, India, and the USA are the three countries with the most population from 1970 to 2023. In the middle, we observe that the population of Russia and Japan has decreased over the years. In the other hand, we notice that the population of Pakistan and Nigeria has increased significantly.  \n",
    "\n",
    "\n",
    "Now, if we see again the information about the data type of 'world percentage' we note that it is an object. Therefore we need to transform it to a number. "
   ]
  },
  {
   "cell_type": "code",
   "execution_count": 8,
   "id": "5a030ad6-ae89-4cf0-8d75-ceb06c0284ea",
   "metadata": {},
   "outputs": [],
   "source": [
    "def remove_percentage(x):\n",
    "    return x.replace('%', '')"
   ]
  },
  {
   "cell_type": "code",
   "execution_count": 9,
   "id": "36f873b1-ed96-4729-aa31-6c3f7ddc9d23",
   "metadata": {},
   "outputs": [
    {
     "data": {
      "text/plain": [
       "'helloworld'"
      ]
     },
     "execution_count": 9,
     "metadata": {},
     "output_type": "execute_result"
    }
   ],
   "source": [
    "remove_percentage('hello%world%')"
   ]
  },
  {
   "cell_type": "markdown",
   "id": "8c8f338d-eac6-4419-a033-96b53f5ed97b",
   "metadata": {},
   "source": [
    "Then we apply the remove_percentage to the 'world percentage' column:"
   ]
  },
  {
   "cell_type": "code",
   "execution_count": 10,
   "id": "a853e113-73ec-4912-b6b4-9e201d7e5722",
   "metadata": {},
   "outputs": [],
   "source": [
    "wp2['world percentage'] = wp2['world percentage'].apply(remove_percentage)"
   ]
  },
  {
   "cell_type": "code",
   "execution_count": 11,
   "id": "9a76d025-6ecb-4d96-ba49-9aff3b680dd4",
   "metadata": {},
   "outputs": [
    {
     "data": {
      "text/plain": [
       "country\n",
       "India               17.85\n",
       "China               17.81\n",
       "United States        4.25\n",
       "Indonesia            3.47\n",
       "Pakistan             3.00\n",
       "                    ...  \n",
       "Montserrat           0.00\n",
       "Falkland Islands     0.00\n",
       "Niue                 0.00\n",
       "Tokelau              0.00\n",
       "Vatican City         0.00\n",
       "Name: world percentage, Length: 234, dtype: object"
      ]
     },
     "execution_count": 11,
     "metadata": {},
     "output_type": "execute_result"
    }
   ],
   "source": [
    "wp2['world percentage']"
   ]
  },
  {
   "cell_type": "code",
   "execution_count": 12,
   "id": "d4d83c32-a32d-4571-8ff2-622743fb5764",
   "metadata": {},
   "outputs": [],
   "source": [
    "wp2.to_csv('world_p_file.csv',index=False)"
   ]
  },
  {
   "cell_type": "markdown",
   "id": "13c7682d-3f88-4dab-a96b-c4a30c26f78d",
   "metadata": {},
   "source": [
    "Finally in the last command line I saved the dataframe in csv format to process it in other visualization tools like Tableau or Power BI "
   ]
  },
  {
   "cell_type": "code",
   "execution_count": null,
   "id": "72254bbc-e578-4d4c-98a6-6880f2d188db",
   "metadata": {},
   "outputs": [],
   "source": []
  }
 ],
 "metadata": {
  "kernelspec": {
   "display_name": "Python 3 (ipykernel)",
   "language": "python",
   "name": "python3"
  },
  "language_info": {
   "codemirror_mode": {
    "name": "ipython",
    "version": 3
   },
   "file_extension": ".py",
   "mimetype": "text/x-python",
   "name": "python",
   "nbconvert_exporter": "python",
   "pygments_lexer": "ipython3",
   "version": "3.11.5"
  }
 },
 "nbformat": 4,
 "nbformat_minor": 5
}
