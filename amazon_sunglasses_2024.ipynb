{
 "cells": [
  {
   "cell_type": "markdown",
   "id": "f7f907bd-e81c-4474-a771-48f847a91581",
   "metadata": {},
   "source": [
    "Importing libraries"
   ]
  },
  {
   "cell_type": "code",
   "execution_count": 24,
   "id": "7e06fb72-e94c-42df-b42c-b76c728b41b4",
   "metadata": {},
   "outputs": [],
   "source": [
    "import matplotlib.pyplot as plt\n",
    "import pandas as pd\n",
    "import seaborn as sns\n",
    "%matplotlib inline\n"
   ]
  },
  {
   "cell_type": "markdown",
   "id": "8ee71c7a-6032-4019-b17c-65c254bd6824",
   "metadata": {},
   "source": [
    "Loading data "
   ]
  },
  {
   "cell_type": "code",
   "execution_count": 41,
   "id": "df4c4ccb-3978-49ac-a6b9-fd913b788ad1",
   "metadata": {},
   "outputs": [],
   "source": [
    "df = pd.read_csv('best_sellers_amazon_2024_sunglasses.csv') #This dataset contains the information about the prices and rating from the sales of sunglasses in amazon"
   ]
  },
  {
   "cell_type": "markdown",
   "id": "167cc0ef-8824-4306-a104-066108de61c6",
   "metadata": {},
   "source": [
    "Showing the first 10 columns from the database "
   ]
  },
  {
   "cell_type": "code",
   "execution_count": 26,
   "id": "4b696548-39e1-4b6b-8d5f-17100c402044",
   "metadata": {},
   "outputs": [
    {
     "data": {
      "text/html": [
       "<div>\n",
       "<style scoped>\n",
       "    .dataframe tbody tr th:only-of-type {\n",
       "        vertical-align: middle;\n",
       "    }\n",
       "\n",
       "    .dataframe tbody tr th {\n",
       "        vertical-align: top;\n",
       "    }\n",
       "\n",
       "    .dataframe thead th {\n",
       "        text-align: right;\n",
       "    }\n",
       "</style>\n",
       "<table border=\"1\" class=\"dataframe\">\n",
       "  <thead>\n",
       "    <tr style=\"text-align: right;\">\n",
       "      <th></th>\n",
       "      <th>title</th>\n",
       "      <th>brand</th>\n",
       "      <th>description</th>\n",
       "      <th>price/currency</th>\n",
       "      <th>price/value</th>\n",
       "      <th>stars</th>\n",
       "      <th>reviewsCount</th>\n",
       "    </tr>\n",
       "  </thead>\n",
       "  <tbody>\n",
       "    <tr>\n",
       "      <th>0</th>\n",
       "      <td>SOJOS Retro Polarized Aviator Sunglasses for W...</td>\n",
       "      <td>SOJOS</td>\n",
       "      <td>NaN</td>\n",
       "      <td>NaN</td>\n",
       "      <td>NaN</td>\n",
       "      <td>4.4</td>\n",
       "      <td>8032.0</td>\n",
       "    </tr>\n",
       "    <tr>\n",
       "      <th>1</th>\n",
       "      <td>WearMe Pro - Reflective Lens Round Trendy Sung...</td>\n",
       "      <td>WearMe Pro</td>\n",
       "      <td>NaN</td>\n",
       "      <td>NaN</td>\n",
       "      <td>NaN</td>\n",
       "      <td>4.5</td>\n",
       "      <td>19647.0</td>\n",
       "    </tr>\n",
       "    <tr>\n",
       "      <th>2</th>\n",
       "      <td>TURBOPEP Square Polarized Sunglasses for Men a...</td>\n",
       "      <td>TURBOPEP</td>\n",
       "      <td>NaN</td>\n",
       "      <td>NaN</td>\n",
       "      <td>NaN</td>\n",
       "      <td>4.5</td>\n",
       "      <td>475.0</td>\n",
       "    </tr>\n",
       "    <tr>\n",
       "      <th>3</th>\n",
       "      <td>Locs Gangster Oversized Rectangular Horn Rim S...</td>\n",
       "      <td>Locs</td>\n",
       "      <td>Macho men's authentic OG Locs gangster shades ...</td>\n",
       "      <td>$</td>\n",
       "      <td>7.35</td>\n",
       "      <td>4.5</td>\n",
       "      <td>3090.0</td>\n",
       "    </tr>\n",
       "    <tr>\n",
       "      <th>4</th>\n",
       "      <td>ATTCL Polarized Wrap Sunglasses For Men - Fish...</td>\n",
       "      <td>ATTCL</td>\n",
       "      <td>NaN</td>\n",
       "      <td>NaN</td>\n",
       "      <td>NaN</td>\n",
       "      <td>4.4</td>\n",
       "      <td>6299.0</td>\n",
       "    </tr>\n",
       "    <tr>\n",
       "      <th>5</th>\n",
       "      <td>SOJOS Classic Square Sunglasses for Women Men ...</td>\n",
       "      <td>SOJOS</td>\n",
       "      <td>NaN</td>\n",
       "      <td>NaN</td>\n",
       "      <td>NaN</td>\n",
       "      <td>4.6</td>\n",
       "      <td>4397.0</td>\n",
       "    </tr>\n",
       "    <tr>\n",
       "      <th>6</th>\n",
       "      <td>MERRY'S Rectangular Polarized Sports Sunglasse...</td>\n",
       "      <td>MERRY'S</td>\n",
       "      <td>NaN</td>\n",
       "      <td>$</td>\n",
       "      <td>13.99</td>\n",
       "      <td>4.4</td>\n",
       "      <td>6977.0</td>\n",
       "    </tr>\n",
       "    <tr>\n",
       "      <th>7</th>\n",
       "      <td>SUNGAIT Vintage Round Sunglasses for Women Men...</td>\n",
       "      <td>SUNGAIT</td>\n",
       "      <td>NaN</td>\n",
       "      <td>NaN</td>\n",
       "      <td>NaN</td>\n",
       "      <td>4.6</td>\n",
       "      <td>51091.0</td>\n",
       "    </tr>\n",
       "    <tr>\n",
       "      <th>8</th>\n",
       "      <td>grinderPUNCH XL Men's Big Wide Frame Black Sun...</td>\n",
       "      <td>grinderPUNCH</td>\n",
       "      <td>Dark Black Tint Lens! Perfect for Days Spent o...</td>\n",
       "      <td>$</td>\n",
       "      <td>15.99</td>\n",
       "      <td>4.2</td>\n",
       "      <td>4207.0</td>\n",
       "    </tr>\n",
       "    <tr>\n",
       "      <th>9</th>\n",
       "      <td>Buyisgle Eye Glasses Holder Strap - Sunglasses...</td>\n",
       "      <td>Buyisgle</td>\n",
       "      <td>NaN</td>\n",
       "      <td>$</td>\n",
       "      <td>9.96</td>\n",
       "      <td>4.6</td>\n",
       "      <td>46.0</td>\n",
       "    </tr>\n",
       "  </tbody>\n",
       "</table>\n",
       "</div>"
      ],
      "text/plain": [
       "                                               title         brand  \\\n",
       "0  SOJOS Retro Polarized Aviator Sunglasses for W...         SOJOS   \n",
       "1  WearMe Pro - Reflective Lens Round Trendy Sung...    WearMe Pro   \n",
       "2  TURBOPEP Square Polarized Sunglasses for Men a...      TURBOPEP   \n",
       "3  Locs Gangster Oversized Rectangular Horn Rim S...          Locs   \n",
       "4  ATTCL Polarized Wrap Sunglasses For Men - Fish...         ATTCL   \n",
       "5  SOJOS Classic Square Sunglasses for Women Men ...         SOJOS   \n",
       "6  MERRY'S Rectangular Polarized Sports Sunglasse...       MERRY'S   \n",
       "7  SUNGAIT Vintage Round Sunglasses for Women Men...       SUNGAIT   \n",
       "8  grinderPUNCH XL Men's Big Wide Frame Black Sun...  grinderPUNCH   \n",
       "9  Buyisgle Eye Glasses Holder Strap - Sunglasses...      Buyisgle   \n",
       "\n",
       "                                         description price/currency  \\\n",
       "0                                                NaN            NaN   \n",
       "1                                                NaN            NaN   \n",
       "2                                                NaN            NaN   \n",
       "3  Macho men's authentic OG Locs gangster shades ...              $   \n",
       "4                                                NaN            NaN   \n",
       "5                                                NaN            NaN   \n",
       "6                                                NaN              $   \n",
       "7                                                NaN            NaN   \n",
       "8  Dark Black Tint Lens! Perfect for Days Spent o...              $   \n",
       "9                                                NaN              $   \n",
       "\n",
       "   price/value  stars  reviewsCount  \n",
       "0          NaN    4.4        8032.0  \n",
       "1          NaN    4.5       19647.0  \n",
       "2          NaN    4.5         475.0  \n",
       "3         7.35    4.5        3090.0  \n",
       "4          NaN    4.4        6299.0  \n",
       "5          NaN    4.6        4397.0  \n",
       "6        13.99    4.4        6977.0  \n",
       "7          NaN    4.6       51091.0  \n",
       "8        15.99    4.2        4207.0  \n",
       "9         9.96    4.6          46.0  "
      ]
     },
     "execution_count": 26,
     "metadata": {},
     "output_type": "execute_result"
    }
   ],
   "source": [
    "df.head(10)"
   ]
  },
  {
   "cell_type": "markdown",
   "id": "07e6af63-ed4d-48e5-b510-877c5da13c3b",
   "metadata": {},
   "source": [
    "At first glance it is possible to see that there are NaN's values. Also, we can get the information from the data type and the entire structure of the database"
   ]
  },
  {
   "cell_type": "code",
   "execution_count": 27,
   "id": "7852ee36-14e9-4333-a267-08b92a6217ed",
   "metadata": {},
   "outputs": [
    {
     "name": "stdout",
     "output_type": "stream",
     "text": [
      "<class 'pandas.core.frame.DataFrame'>\n",
      "RangeIndex: 260 entries, 0 to 259\n",
      "Data columns (total 7 columns):\n",
      " #   Column          Non-Null Count  Dtype  \n",
      "---  ------          --------------  -----  \n",
      " 0   title           260 non-null    object \n",
      " 1   brand           260 non-null    object \n",
      " 2   description     84 non-null     object \n",
      " 3   price/currency  100 non-null    object \n",
      " 4   price/value     100 non-null    float64\n",
      " 5   stars           259 non-null    float64\n",
      " 6   reviewsCount    259 non-null    float64\n",
      "dtypes: float64(3), object(4)\n",
      "memory usage: 14.3+ KB\n"
     ]
    }
   ],
   "source": [
    "df.info()"
   ]
  },
  {
   "cell_type": "markdown",
   "id": "68fd1eeb-ff71-4cdc-bcda-4f7e926fff25",
   "metadata": {},
   "source": [
    "We see that there are only 3 columns with value numbers and 4 with 'object' type."
   ]
  },
  {
   "cell_type": "markdown",
   "id": "7e2f2937-2554-4658-a37e-54784b7f5967",
   "metadata": {},
   "source": [
    "Another method to use in this extraction of the data is describe"
   ]
  },
  {
   "cell_type": "code",
   "execution_count": 28,
   "id": "b07e5a84-a32b-4d6c-9807-afa03cf7bf8b",
   "metadata": {},
   "outputs": [
    {
     "data": {
      "text/html": [
       "<div>\n",
       "<style scoped>\n",
       "    .dataframe tbody tr th:only-of-type {\n",
       "        vertical-align: middle;\n",
       "    }\n",
       "\n",
       "    .dataframe tbody tr th {\n",
       "        vertical-align: top;\n",
       "    }\n",
       "\n",
       "    .dataframe thead th {\n",
       "        text-align: right;\n",
       "    }\n",
       "</style>\n",
       "<table border=\"1\" class=\"dataframe\">\n",
       "  <thead>\n",
       "    <tr style=\"text-align: right;\">\n",
       "      <th></th>\n",
       "      <th>price/value</th>\n",
       "      <th>stars</th>\n",
       "      <th>reviewsCount</th>\n",
       "    </tr>\n",
       "  </thead>\n",
       "  <tbody>\n",
       "    <tr>\n",
       "      <th>count</th>\n",
       "      <td>100.000000</td>\n",
       "      <td>259.000000</td>\n",
       "      <td>259.000000</td>\n",
       "    </tr>\n",
       "    <tr>\n",
       "      <th>mean</th>\n",
       "      <td>20.997260</td>\n",
       "      <td>4.427413</td>\n",
       "      <td>5477.942085</td>\n",
       "    </tr>\n",
       "    <tr>\n",
       "      <th>std</th>\n",
       "      <td>22.397588</td>\n",
       "      <td>0.151675</td>\n",
       "      <td>8142.612586</td>\n",
       "    </tr>\n",
       "    <tr>\n",
       "      <th>min</th>\n",
       "      <td>0.007000</td>\n",
       "      <td>3.800000</td>\n",
       "      <td>14.000000</td>\n",
       "    </tr>\n",
       "    <tr>\n",
       "      <th>25%</th>\n",
       "      <td>13.725000</td>\n",
       "      <td>4.300000</td>\n",
       "      <td>853.500000</td>\n",
       "    </tr>\n",
       "    <tr>\n",
       "      <th>50%</th>\n",
       "      <td>15.985000</td>\n",
       "      <td>4.400000</td>\n",
       "      <td>2473.000000</td>\n",
       "    </tr>\n",
       "    <tr>\n",
       "      <th>75%</th>\n",
       "      <td>23.855000</td>\n",
       "      <td>4.500000</td>\n",
       "      <td>6123.000000</td>\n",
       "    </tr>\n",
       "    <tr>\n",
       "      <th>max</th>\n",
       "      <td>195.000000</td>\n",
       "      <td>4.800000</td>\n",
       "      <td>51091.000000</td>\n",
       "    </tr>\n",
       "  </tbody>\n",
       "</table>\n",
       "</div>"
      ],
      "text/plain": [
       "       price/value       stars  reviewsCount\n",
       "count   100.000000  259.000000    259.000000\n",
       "mean     20.997260    4.427413   5477.942085\n",
       "std      22.397588    0.151675   8142.612586\n",
       "min       0.007000    3.800000     14.000000\n",
       "25%      13.725000    4.300000    853.500000\n",
       "50%      15.985000    4.400000   2473.000000\n",
       "75%      23.855000    4.500000   6123.000000\n",
       "max     195.000000    4.800000  51091.000000"
      ]
     },
     "execution_count": 28,
     "metadata": {},
     "output_type": "execute_result"
    }
   ],
   "source": [
    "df.describe()"
   ]
  },
  {
   "cell_type": "markdown",
   "id": "feafab21-8076-4519-9446-ad6b3ce459f3",
   "metadata": {},
   "source": [
    "We can set the brand index in the data with the goal that it is better to 'scan' "
   ]
  },
  {
   "cell_type": "code",
   "execution_count": 29,
   "id": "8bc5c9af-9ff8-47de-93d7-86e4926654ea",
   "metadata": {},
   "outputs": [],
   "source": [
    "df1 = df.copy()"
   ]
  },
  {
   "cell_type": "code",
   "execution_count": 30,
   "id": "52ebbb49-91ff-406a-bacb-539a99d1578d",
   "metadata": {},
   "outputs": [
    {
     "data": {
      "text/html": [
       "<div>\n",
       "<style scoped>\n",
       "    .dataframe tbody tr th:only-of-type {\n",
       "        vertical-align: middle;\n",
       "    }\n",
       "\n",
       "    .dataframe tbody tr th {\n",
       "        vertical-align: top;\n",
       "    }\n",
       "\n",
       "    .dataframe thead th {\n",
       "        text-align: right;\n",
       "    }\n",
       "</style>\n",
       "<table border=\"1\" class=\"dataframe\">\n",
       "  <thead>\n",
       "    <tr style=\"text-align: right;\">\n",
       "      <th></th>\n",
       "      <th>title</th>\n",
       "      <th>description</th>\n",
       "      <th>price/currency</th>\n",
       "      <th>price/value</th>\n",
       "      <th>stars</th>\n",
       "      <th>reviewsCount</th>\n",
       "    </tr>\n",
       "    <tr>\n",
       "      <th>brand</th>\n",
       "      <th></th>\n",
       "      <th></th>\n",
       "      <th></th>\n",
       "      <th></th>\n",
       "      <th></th>\n",
       "      <th></th>\n",
       "    </tr>\n",
       "  </thead>\n",
       "  <tbody>\n",
       "    <tr>\n",
       "      <th>SOJOS</th>\n",
       "      <td>SOJOS Retro Polarized Aviator Sunglasses for W...</td>\n",
       "      <td>NaN</td>\n",
       "      <td>NaN</td>\n",
       "      <td>NaN</td>\n",
       "      <td>4.4</td>\n",
       "      <td>8032.0</td>\n",
       "    </tr>\n",
       "    <tr>\n",
       "      <th>WearMe Pro</th>\n",
       "      <td>WearMe Pro - Reflective Lens Round Trendy Sung...</td>\n",
       "      <td>NaN</td>\n",
       "      <td>NaN</td>\n",
       "      <td>NaN</td>\n",
       "      <td>4.5</td>\n",
       "      <td>19647.0</td>\n",
       "    </tr>\n",
       "    <tr>\n",
       "      <th>TURBOPEP</th>\n",
       "      <td>TURBOPEP Square Polarized Sunglasses for Men a...</td>\n",
       "      <td>NaN</td>\n",
       "      <td>NaN</td>\n",
       "      <td>NaN</td>\n",
       "      <td>4.5</td>\n",
       "      <td>475.0</td>\n",
       "    </tr>\n",
       "    <tr>\n",
       "      <th>Locs</th>\n",
       "      <td>Locs Gangster Oversized Rectangular Horn Rim S...</td>\n",
       "      <td>Macho men's authentic OG Locs gangster shades ...</td>\n",
       "      <td>$</td>\n",
       "      <td>7.350</td>\n",
       "      <td>4.5</td>\n",
       "      <td>3090.0</td>\n",
       "    </tr>\n",
       "    <tr>\n",
       "      <th>ATTCL</th>\n",
       "      <td>ATTCL Polarized Wrap Sunglasses For Men - Fish...</td>\n",
       "      <td>NaN</td>\n",
       "      <td>NaN</td>\n",
       "      <td>NaN</td>\n",
       "      <td>4.4</td>\n",
       "      <td>6299.0</td>\n",
       "    </tr>\n",
       "    <tr>\n",
       "      <th>...</th>\n",
       "      <td>...</td>\n",
       "      <td>...</td>\n",
       "      <td>...</td>\n",
       "      <td>...</td>\n",
       "      <td>...</td>\n",
       "      <td>...</td>\n",
       "    </tr>\n",
       "    <tr>\n",
       "      <th>SA106</th>\n",
       "      <td>SA106 Mens Retro Vintage Narrow Rectangular Pi...</td>\n",
       "      <td>NaN</td>\n",
       "      <td>NaN</td>\n",
       "      <td>NaN</td>\n",
       "      <td>4.4</td>\n",
       "      <td>419.0</td>\n",
       "    </tr>\n",
       "    <tr>\n",
       "      <th>Dockers</th>\n",
       "      <td>Dockers Men's Gavin Sunglasses Polarized Wrap,...</td>\n",
       "      <td>Feel comfortable during sports and active adve...</td>\n",
       "      <td>$</td>\n",
       "      <td>13.970</td>\n",
       "      <td>4.4</td>\n",
       "      <td>100.0</td>\n",
       "    </tr>\n",
       "    <tr>\n",
       "      <th>SUNGAIT</th>\n",
       "      <td>SUNGAIT Polygon Aviator Sunglasses for Men Pol...</td>\n",
       "      <td>NaN</td>\n",
       "      <td>NaN</td>\n",
       "      <td>NaN</td>\n",
       "      <td>4.5</td>\n",
       "      <td>1003.0</td>\n",
       "    </tr>\n",
       "    <tr>\n",
       "      <th>Ray-Ban</th>\n",
       "      <td>Ray-Ban Rb4171 Erika Round Sunglasses</td>\n",
       "      <td>Modern classics with an open-minded personalit...</td>\n",
       "      <td>$</td>\n",
       "      <td>0.007</td>\n",
       "      <td>4.6</td>\n",
       "      <td>11493.0</td>\n",
       "    </tr>\n",
       "    <tr>\n",
       "      <th>KANASTAL</th>\n",
       "      <td>KANASTAL Round Sunglasses Polarized for Men Wo...</td>\n",
       "      <td>NaN</td>\n",
       "      <td>NaN</td>\n",
       "      <td>NaN</td>\n",
       "      <td>4.3</td>\n",
       "      <td>1363.0</td>\n",
       "    </tr>\n",
       "  </tbody>\n",
       "</table>\n",
       "<p>260 rows × 6 columns</p>\n",
       "</div>"
      ],
      "text/plain": [
       "                                                        title  \\\n",
       "brand                                                           \n",
       "SOJOS       SOJOS Retro Polarized Aviator Sunglasses for W...   \n",
       "WearMe Pro  WearMe Pro - Reflective Lens Round Trendy Sung...   \n",
       "TURBOPEP    TURBOPEP Square Polarized Sunglasses for Men a...   \n",
       "Locs        Locs Gangster Oversized Rectangular Horn Rim S...   \n",
       "ATTCL       ATTCL Polarized Wrap Sunglasses For Men - Fish...   \n",
       "...                                                       ...   \n",
       "SA106       SA106 Mens Retro Vintage Narrow Rectangular Pi...   \n",
       "Dockers     Dockers Men's Gavin Sunglasses Polarized Wrap,...   \n",
       "SUNGAIT     SUNGAIT Polygon Aviator Sunglasses for Men Pol...   \n",
       "Ray-Ban                 Ray-Ban Rb4171 Erika Round Sunglasses   \n",
       "KANASTAL    KANASTAL Round Sunglasses Polarized for Men Wo...   \n",
       "\n",
       "                                                  description price/currency  \\\n",
       "brand                                                                          \n",
       "SOJOS                                                     NaN            NaN   \n",
       "WearMe Pro                                                NaN            NaN   \n",
       "TURBOPEP                                                  NaN            NaN   \n",
       "Locs        Macho men's authentic OG Locs gangster shades ...              $   \n",
       "ATTCL                                                     NaN            NaN   \n",
       "...                                                       ...            ...   \n",
       "SA106                                                     NaN            NaN   \n",
       "Dockers     Feel comfortable during sports and active adve...              $   \n",
       "SUNGAIT                                                   NaN            NaN   \n",
       "Ray-Ban     Modern classics with an open-minded personalit...              $   \n",
       "KANASTAL                                                  NaN            NaN   \n",
       "\n",
       "            price/value  stars  reviewsCount  \n",
       "brand                                         \n",
       "SOJOS               NaN    4.4        8032.0  \n",
       "WearMe Pro          NaN    4.5       19647.0  \n",
       "TURBOPEP            NaN    4.5         475.0  \n",
       "Locs              7.350    4.5        3090.0  \n",
       "ATTCL               NaN    4.4        6299.0  \n",
       "...                 ...    ...           ...  \n",
       "SA106               NaN    4.4         419.0  \n",
       "Dockers          13.970    4.4         100.0  \n",
       "SUNGAIT             NaN    4.5        1003.0  \n",
       "Ray-Ban           0.007    4.6       11493.0  \n",
       "KANASTAL            NaN    4.3        1363.0  \n",
       "\n",
       "[260 rows x 6 columns]"
      ]
     },
     "execution_count": 30,
     "metadata": {},
     "output_type": "execute_result"
    }
   ],
   "source": [
    "df1 = df1.set_index('brand')\n",
    "df1"
   ]
  },
  {
   "cell_type": "markdown",
   "id": "4decf11a-daa8-4ab3-877e-588af9c46a82",
   "metadata": {},
   "source": [
    "Now we can drop the columns that are not important for the analysis such as 'description', 'title' and 'price/currency'"
   ]
  },
  {
   "cell_type": "code",
   "execution_count": 31,
   "id": "c2b236f1-f7b2-4d81-af76-ac9b75ab2f93",
   "metadata": {},
   "outputs": [],
   "source": [
    "columns_without_importance = ['title','description','price/currency']"
   ]
  },
  {
   "cell_type": "code",
   "execution_count": 32,
   "id": "a33b88f1-40cc-490c-98af-dd26786d0537",
   "metadata": {},
   "outputs": [],
   "source": [
    "df1 = df1.drop(columns=columns_without_importance)"
   ]
  },
  {
   "cell_type": "code",
   "execution_count": 33,
   "id": "dfa689d7-083e-4359-bb70-143f86e6f9d4",
   "metadata": {},
   "outputs": [
    {
     "data": {
      "text/html": [
       "<div>\n",
       "<style scoped>\n",
       "    .dataframe tbody tr th:only-of-type {\n",
       "        vertical-align: middle;\n",
       "    }\n",
       "\n",
       "    .dataframe tbody tr th {\n",
       "        vertical-align: top;\n",
       "    }\n",
       "\n",
       "    .dataframe thead th {\n",
       "        text-align: right;\n",
       "    }\n",
       "</style>\n",
       "<table border=\"1\" class=\"dataframe\">\n",
       "  <thead>\n",
       "    <tr style=\"text-align: right;\">\n",
       "      <th></th>\n",
       "      <th>price/value</th>\n",
       "      <th>stars</th>\n",
       "      <th>reviewsCount</th>\n",
       "    </tr>\n",
       "    <tr>\n",
       "      <th>brand</th>\n",
       "      <th></th>\n",
       "      <th></th>\n",
       "      <th></th>\n",
       "    </tr>\n",
       "  </thead>\n",
       "  <tbody>\n",
       "    <tr>\n",
       "      <th>SOJOS</th>\n",
       "      <td>NaN</td>\n",
       "      <td>4.4</td>\n",
       "      <td>8032.0</td>\n",
       "    </tr>\n",
       "    <tr>\n",
       "      <th>WearMe Pro</th>\n",
       "      <td>NaN</td>\n",
       "      <td>4.5</td>\n",
       "      <td>19647.0</td>\n",
       "    </tr>\n",
       "    <tr>\n",
       "      <th>TURBOPEP</th>\n",
       "      <td>NaN</td>\n",
       "      <td>4.5</td>\n",
       "      <td>475.0</td>\n",
       "    </tr>\n",
       "    <tr>\n",
       "      <th>Locs</th>\n",
       "      <td>7.350</td>\n",
       "      <td>4.5</td>\n",
       "      <td>3090.0</td>\n",
       "    </tr>\n",
       "    <tr>\n",
       "      <th>ATTCL</th>\n",
       "      <td>NaN</td>\n",
       "      <td>4.4</td>\n",
       "      <td>6299.0</td>\n",
       "    </tr>\n",
       "    <tr>\n",
       "      <th>...</th>\n",
       "      <td>...</td>\n",
       "      <td>...</td>\n",
       "      <td>...</td>\n",
       "    </tr>\n",
       "    <tr>\n",
       "      <th>SA106</th>\n",
       "      <td>NaN</td>\n",
       "      <td>4.4</td>\n",
       "      <td>419.0</td>\n",
       "    </tr>\n",
       "    <tr>\n",
       "      <th>Dockers</th>\n",
       "      <td>13.970</td>\n",
       "      <td>4.4</td>\n",
       "      <td>100.0</td>\n",
       "    </tr>\n",
       "    <tr>\n",
       "      <th>SUNGAIT</th>\n",
       "      <td>NaN</td>\n",
       "      <td>4.5</td>\n",
       "      <td>1003.0</td>\n",
       "    </tr>\n",
       "    <tr>\n",
       "      <th>Ray-Ban</th>\n",
       "      <td>0.007</td>\n",
       "      <td>4.6</td>\n",
       "      <td>11493.0</td>\n",
       "    </tr>\n",
       "    <tr>\n",
       "      <th>KANASTAL</th>\n",
       "      <td>NaN</td>\n",
       "      <td>4.3</td>\n",
       "      <td>1363.0</td>\n",
       "    </tr>\n",
       "  </tbody>\n",
       "</table>\n",
       "<p>260 rows × 3 columns</p>\n",
       "</div>"
      ],
      "text/plain": [
       "            price/value  stars  reviewsCount\n",
       "brand                                       \n",
       "SOJOS               NaN    4.4        8032.0\n",
       "WearMe Pro          NaN    4.5       19647.0\n",
       "TURBOPEP            NaN    4.5         475.0\n",
       "Locs              7.350    4.5        3090.0\n",
       "ATTCL               NaN    4.4        6299.0\n",
       "...                 ...    ...           ...\n",
       "SA106               NaN    4.4         419.0\n",
       "Dockers          13.970    4.4         100.0\n",
       "SUNGAIT             NaN    4.5        1003.0\n",
       "Ray-Ban           0.007    4.6       11493.0\n",
       "KANASTAL            NaN    4.3        1363.0\n",
       "\n",
       "[260 rows x 3 columns]"
      ]
     },
     "execution_count": 33,
     "metadata": {},
     "output_type": "execute_result"
    }
   ],
   "source": [
    "df1"
   ]
  },
  {
   "cell_type": "code",
   "execution_count": 34,
   "id": "fb4ca0e4-6b68-4e73-ac98-d8adf368287b",
   "metadata": {},
   "outputs": [
    {
     "data": {
      "text/plain": [
       "price/value     160\n",
       "stars             1\n",
       "reviewsCount      1\n",
       "dtype: int64"
      ]
     },
     "execution_count": 34,
     "metadata": {},
     "output_type": "execute_result"
    }
   ],
   "source": [
    "df1.isna().sum()"
   ]
  },
  {
   "cell_type": "code",
   "execution_count": 35,
   "id": "5f0a9615-0e36-4ae9-9991-11e9e1e846ed",
   "metadata": {},
   "outputs": [],
   "source": [
    "df1 = df1.fillna(0)"
   ]
  },
  {
   "cell_type": "code",
   "execution_count": 36,
   "id": "8b8b204b-4661-450a-b8a7-89795700743d",
   "metadata": {},
   "outputs": [],
   "source": [
    "#df1.isna().sum()"
   ]
  },
  {
   "cell_type": "code",
   "execution_count": 37,
   "id": "eda5358c-c3f0-46a4-a14d-d826334a4982",
   "metadata": {},
   "outputs": [
    {
     "data": {
      "text/html": [
       "<div>\n",
       "<style scoped>\n",
       "    .dataframe tbody tr th:only-of-type {\n",
       "        vertical-align: middle;\n",
       "    }\n",
       "\n",
       "    .dataframe tbody tr th {\n",
       "        vertical-align: top;\n",
       "    }\n",
       "\n",
       "    .dataframe thead th {\n",
       "        text-align: right;\n",
       "    }\n",
       "</style>\n",
       "<table border=\"1\" class=\"dataframe\">\n",
       "  <thead>\n",
       "    <tr style=\"text-align: right;\">\n",
       "      <th></th>\n",
       "      <th>price/value</th>\n",
       "      <th>stars</th>\n",
       "      <th>reviewsCount</th>\n",
       "    </tr>\n",
       "    <tr>\n",
       "      <th>brand</th>\n",
       "      <th></th>\n",
       "      <th></th>\n",
       "      <th></th>\n",
       "    </tr>\n",
       "  </thead>\n",
       "  <tbody>\n",
       "    <tr>\n",
       "      <th>SOJOS</th>\n",
       "      <td>0.000</td>\n",
       "      <td>4.4</td>\n",
       "      <td>8032.0</td>\n",
       "    </tr>\n",
       "    <tr>\n",
       "      <th>WearMe Pro</th>\n",
       "      <td>0.000</td>\n",
       "      <td>4.5</td>\n",
       "      <td>19647.0</td>\n",
       "    </tr>\n",
       "    <tr>\n",
       "      <th>TURBOPEP</th>\n",
       "      <td>0.000</td>\n",
       "      <td>4.5</td>\n",
       "      <td>475.0</td>\n",
       "    </tr>\n",
       "    <tr>\n",
       "      <th>Locs</th>\n",
       "      <td>7.350</td>\n",
       "      <td>4.5</td>\n",
       "      <td>3090.0</td>\n",
       "    </tr>\n",
       "    <tr>\n",
       "      <th>ATTCL</th>\n",
       "      <td>0.000</td>\n",
       "      <td>4.4</td>\n",
       "      <td>6299.0</td>\n",
       "    </tr>\n",
       "    <tr>\n",
       "      <th>...</th>\n",
       "      <td>...</td>\n",
       "      <td>...</td>\n",
       "      <td>...</td>\n",
       "    </tr>\n",
       "    <tr>\n",
       "      <th>SA106</th>\n",
       "      <td>0.000</td>\n",
       "      <td>4.4</td>\n",
       "      <td>419.0</td>\n",
       "    </tr>\n",
       "    <tr>\n",
       "      <th>Dockers</th>\n",
       "      <td>13.970</td>\n",
       "      <td>4.4</td>\n",
       "      <td>100.0</td>\n",
       "    </tr>\n",
       "    <tr>\n",
       "      <th>SUNGAIT</th>\n",
       "      <td>0.000</td>\n",
       "      <td>4.5</td>\n",
       "      <td>1003.0</td>\n",
       "    </tr>\n",
       "    <tr>\n",
       "      <th>Ray-Ban</th>\n",
       "      <td>0.007</td>\n",
       "      <td>4.6</td>\n",
       "      <td>11493.0</td>\n",
       "    </tr>\n",
       "    <tr>\n",
       "      <th>KANASTAL</th>\n",
       "      <td>0.000</td>\n",
       "      <td>4.3</td>\n",
       "      <td>1363.0</td>\n",
       "    </tr>\n",
       "  </tbody>\n",
       "</table>\n",
       "<p>260 rows × 3 columns</p>\n",
       "</div>"
      ],
      "text/plain": [
       "            price/value  stars  reviewsCount\n",
       "brand                                       \n",
       "SOJOS             0.000    4.4        8032.0\n",
       "WearMe Pro        0.000    4.5       19647.0\n",
       "TURBOPEP          0.000    4.5         475.0\n",
       "Locs              7.350    4.5        3090.0\n",
       "ATTCL             0.000    4.4        6299.0\n",
       "...                 ...    ...           ...\n",
       "SA106             0.000    4.4         419.0\n",
       "Dockers          13.970    4.4         100.0\n",
       "SUNGAIT           0.000    4.5        1003.0\n",
       "Ray-Ban           0.007    4.6       11493.0\n",
       "KANASTAL          0.000    4.3        1363.0\n",
       "\n",
       "[260 rows x 3 columns]"
      ]
     },
     "execution_count": 37,
     "metadata": {},
     "output_type": "execute_result"
    }
   ],
   "source": [
    "df1"
   ]
  },
  {
   "cell_type": "markdown",
   "id": "90bbb03f-d4f5-4883-8623-cabd887f4d4b",
   "metadata": {},
   "source": [
    "Finally we can visualize the data using matlotlib seaborn "
   ]
  },
  {
   "cell_type": "markdown",
   "id": "3c900603-d4f8-4e99-804f-a7df2f9deb0e",
   "metadata": {},
   "source": [
    "RATING"
   ]
  },
  {
   "cell_type": "code",
   "execution_count": 38,
   "id": "ca53f830-6082-46e4-b055-694405fd302e",
   "metadata": {},
   "outputs": [
    {
     "data": {
      "text/plain": [
       "<Axes: ylabel='stars'>"
      ]
     },
     "execution_count": 38,
     "metadata": {},
     "output_type": "execute_result"
    },
    {
     "data": {
      "image/png": "[encoded data removed]",
      "text/plain": [
       "<Figure size 640x480 with 1 Axes>"
      ]
     },
     "metadata": {},
     "output_type": "display_data"
    }
   ],
   "source": [
    "sns.boxplot(df1['stars'])"
   ]
  },
  {
   "cell_type": "markdown",
   "id": "ce489278-7b0f-465c-b13b-60dab42b9bb6",
   "metadata": {},
   "source": [
    "It is shown the rating where the minimum number of stars is above 4 and the maximum is nearly 5. We can get more precision with the describe method"
   ]
  },
  {
   "cell_type": "code",
   "execution_count": 39,
   "id": "48b1c9d9-3e48-4114-ba37-a5443e5b3ab9",
   "metadata": {},
   "outputs": [
    {
     "data": {
      "text/plain": [
       "count    260.000000\n",
       "mean       4.410385\n",
       "std        0.313542\n",
       "min        0.000000\n",
       "25%        4.300000\n",
       "50%        4.400000\n",
       "75%        4.500000\n",
       "max        4.800000\n",
       "Name: stars, dtype: float64"
      ]
     },
     "execution_count": 39,
     "metadata": {},
     "output_type": "execute_result"
    }
   ],
   "source": [
    "df1['stars'].describe()"
   ]
  },
  {
   "cell_type": "markdown",
   "id": "647093ab-1a5c-454b-83d6-6b0872e06048",
   "metadata": {},
   "source": [
    "PRICES "
   ]
  },
  {
   "cell_type": "code",
   "execution_count": 40,
   "id": "8c073009-9c61-4018-b0dc-099f1a81d9df",
   "metadata": {},
   "outputs": [
    {
     "data": {
      "text/plain": [
       "<Axes: ylabel='brand'>"
      ]
     },
     "execution_count": 40,
     "metadata": {},
     "output_type": "execute_result"
    },
    {
     "name": "stderr",
     "output_type": "stream",
     "text": [
      "/Users/axeljimenez/Desktop/Data_analysis/glasses/lib/python3.11/site-packages/IPython/core/events.py:82: UserWarning: Glyph 65372 (\\N{FULLWIDTH VERTICAL LINE}) missing from current font.\n",
      "  func(*args, **kwargs)\n",
      "/Users/axeljimenez/Desktop/Data_analysis/glasses/lib/python3.11/site-packages/IPython/core/pylabtools.py:152: UserWarning: Glyph 65372 (\\N{FULLWIDTH VERTICAL LINE}) missing from current font.\n",
      "  fig.canvas.print_figure(bytes_io, **kw)\n"
     ]
    },
    {
     "data": {
      "image/png": "[encoded data removed]",
      "text/plain": [
       "<Figure size 640x480 with 1 Axes>"
      ]
     },
     "metadata": {},
     "output_type": "display_data"
    }
   ],
   "source": [
    "x = df1['price/value'].sort_values(ascending=False).drop_duplicates().head(20)\n",
    "x.plot(kind='barh')"
   ]
  },
  {
   "cell_type": "markdown",
   "id": "d4d13a32-77aa-4fe1-9849-252d631ffc93",
   "metadata": {},
   "source": [
    "In this other visualization, we see that the brans 'Gucci', 'Oakley', 'Ray-Ban', 'KLEENGUARD' and 'BluBlocker' have the most expensive price of sunglasses in Amazon."
   ]
  },
  {
   "cell_type": "code",
   "execution_count": null,
   "id": "3e5d0dd3-5961-49d7-af35-00b014dac6bb",
   "metadata": {},
   "outputs": [],
   "source": []
  }
 ],
 "metadata": {
  "kernelspec": {
   "display_name": "Python 3 (ipykernel)",
   "language": "python",
   "name": "python3"
  },
  "language_info": {
   "codemirror_mode": {
    "name": "ipython",
    "version": 3
   },
   "file_extension": ".py",
   "mimetype": "text/x-python",
   "name": "python",
   "nbconvert_exporter": "python",
   "pygments_lexer": "ipython3",
   "version": "3.11.5"
  }
 },
 "nbformat": 4,
 "nbformat_minor": 5
}
